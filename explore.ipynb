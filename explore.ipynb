{
 "cells": [
  {
   "cell_type": "markdown",
   "metadata": {},
   "source": [
    "# Data Exploration\n",
    "การวิเคราะห์ข้อมูล order เพื่อค้นหา insights และ patterns สำหรับการ generate ข้อมูลแบบมีหลักการ"
   ]
  },
  {
   "cell_type": "code",
   "execution_count": 13,
   "metadata": {},
   "outputs": [
    {
     "name": "stdout",
     "output_type": "stream",
     "text": [
      "Total records: 1,000,000\n",
      "Date range: 2024-01-01 00:01:31 to 2024-12-30 23:58:42\n",
      "\n",
      "Data shape: (1000000, 8)\n"
     ]
    },
    {
     "data": {
      "application/vnd.microsoft.datawrangler.viewer.v0+json": {
       "columns": [
        {
         "name": "index",
         "rawType": "int64",
         "type": "integer"
        },
        {
         "name": "order_no",
         "rawType": "object",
         "type": "string"
        },
        {
         "name": "amount",
         "rawType": "int64",
         "type": "integer"
        },
        {
         "name": "customer_no",
         "rawType": "object",
         "type": "string"
        },
        {
         "name": "branch",
         "rawType": "object",
         "type": "string"
        },
        {
         "name": "brand",
         "rawType": "object",
         "type": "string"
        },
        {
         "name": "sku",
         "rawType": "object",
         "type": "string"
        },
        {
         "name": "quantity",
         "rawType": "int64",
         "type": "integer"
        },
        {
         "name": "transaction_datetime",
         "rawType": "datetime64[ns]",
         "type": "datetime"
        }
       ],
       "ref": "d3cc1b7c-15a6-41af-a810-c3fe4671a0af",
       "rows": [
        [
         "0",
         "ORD350427",
         "5940",
         "CUST9271",
         "KHONKAEN",
         "PUMA",
         "PU-PANT-35",
         "4",
         "2024-01-12 23:27:39"
        ],
        [
         "1",
         "ORD205951",
         "8683",
         "CUST4294",
         "PHUKET",
         "REEBOK",
         "RE-SHOE-15",
         "2",
         "2024-02-02 22:08:06"
        ],
        [
         "2",
         "ORD106275",
         "557",
         "CUST7958",
         "CHIANGMAI",
         "ADIDAS",
         "AD-SHOE-45",
         "1",
         "2024-12-25 00:23:41"
        ],
        [
         "3",
         "ORD281469",
         "9426",
         "CUST0579",
         "HATYAI",
         "NIKE",
         "NI-BAG-28",
         "4",
         "2024-10-22 04:46:38"
        ],
        [
         "4",
         "ORD262961",
         "3803",
         "CUST9070",
         "KHONKAEN",
         "REEBOK",
         "RE-SHOE-43",
         "4",
         "2024-08-24 14:26:03"
        ],
        [
         "5",
         "ORD110856",
         "3489",
         "CUST8122",
         "KHONKAEN",
         "ADIDAS",
         "AD-CAP-20",
         "5",
         "2024-03-12 17:32:03"
        ],
        [
         "6",
         "ORD331406",
         "2834",
         "CUST9909",
         "KHONKAEN",
         "ADIDAS",
         "AD-SOCK-10",
         "5",
         "2024-03-17 21:24:28"
        ],
        [
         "7",
         "ORD185529",
         "3433",
         "CUST7549",
         "CHIANGMAI",
         "NIKE",
         "NI-BAG-48",
         "2",
         "2024-07-04 05:03:54"
        ],
        [
         "8",
         "ORD243169",
         "3743",
         "CUST7014",
         "PHUKET",
         "ADIDAS",
         "AD-BAG-11",
         "2",
         "2024-01-14 19:14:15"
        ],
        [
         "9",
         "ORD322447",
         "5937",
         "CUST7922",
         "BANGKOK",
         "NEWBALANCE",
         "NE-BAG-03",
         "3",
         "2024-06-28 07:12:14"
        ]
       ],
       "shape": {
        "columns": 8,
        "rows": 10
       }
      },
      "text/html": [
       "<div>\n",
       "<style scoped>\n",
       "    .dataframe tbody tr th:only-of-type {\n",
       "        vertical-align: middle;\n",
       "    }\n",
       "\n",
       "    .dataframe tbody tr th {\n",
       "        vertical-align: top;\n",
       "    }\n",
       "\n",
       "    .dataframe thead th {\n",
       "        text-align: right;\n",
       "    }\n",
       "</style>\n",
       "<table border=\"1\" class=\"dataframe\">\n",
       "  <thead>\n",
       "    <tr style=\"text-align: right;\">\n",
       "      <th></th>\n",
       "      <th>order_no</th>\n",
       "      <th>amount</th>\n",
       "      <th>customer_no</th>\n",
       "      <th>branch</th>\n",
       "      <th>brand</th>\n",
       "      <th>sku</th>\n",
       "      <th>quantity</th>\n",
       "      <th>transaction_datetime</th>\n",
       "    </tr>\n",
       "  </thead>\n",
       "  <tbody>\n",
       "    <tr>\n",
       "      <th>0</th>\n",
       "      <td>ORD350427</td>\n",
       "      <td>5940</td>\n",
       "      <td>CUST9271</td>\n",
       "      <td>KHONKAEN</td>\n",
       "      <td>PUMA</td>\n",
       "      <td>PU-PANT-35</td>\n",
       "      <td>4</td>\n",
       "      <td>2024-01-12 23:27:39</td>\n",
       "    </tr>\n",
       "    <tr>\n",
       "      <th>1</th>\n",
       "      <td>ORD205951</td>\n",
       "      <td>8683</td>\n",
       "      <td>CUST4294</td>\n",
       "      <td>PHUKET</td>\n",
       "      <td>REEBOK</td>\n",
       "      <td>RE-SHOE-15</td>\n",
       "      <td>2</td>\n",
       "      <td>2024-02-02 22:08:06</td>\n",
       "    </tr>\n",
       "    <tr>\n",
       "      <th>2</th>\n",
       "      <td>ORD106275</td>\n",
       "      <td>557</td>\n",
       "      <td>CUST7958</td>\n",
       "      <td>CHIANGMAI</td>\n",
       "      <td>ADIDAS</td>\n",
       "      <td>AD-SHOE-45</td>\n",
       "      <td>1</td>\n",
       "      <td>2024-12-25 00:23:41</td>\n",
       "    </tr>\n",
       "    <tr>\n",
       "      <th>3</th>\n",
       "      <td>ORD281469</td>\n",
       "      <td>9426</td>\n",
       "      <td>CUST0579</td>\n",
       "      <td>HATYAI</td>\n",
       "      <td>NIKE</td>\n",
       "      <td>NI-BAG-28</td>\n",
       "      <td>4</td>\n",
       "      <td>2024-10-22 04:46:38</td>\n",
       "    </tr>\n",
       "    <tr>\n",
       "      <th>4</th>\n",
       "      <td>ORD262961</td>\n",
       "      <td>3803</td>\n",
       "      <td>CUST9070</td>\n",
       "      <td>KHONKAEN</td>\n",
       "      <td>REEBOK</td>\n",
       "      <td>RE-SHOE-43</td>\n",
       "      <td>4</td>\n",
       "      <td>2024-08-24 14:26:03</td>\n",
       "    </tr>\n",
       "    <tr>\n",
       "      <th>5</th>\n",
       "      <td>ORD110856</td>\n",
       "      <td>3489</td>\n",
       "      <td>CUST8122</td>\n",
       "      <td>KHONKAEN</td>\n",
       "      <td>ADIDAS</td>\n",
       "      <td>AD-CAP-20</td>\n",
       "      <td>5</td>\n",
       "      <td>2024-03-12 17:32:03</td>\n",
       "    </tr>\n",
       "    <tr>\n",
       "      <th>6</th>\n",
       "      <td>ORD331406</td>\n",
       "      <td>2834</td>\n",
       "      <td>CUST9909</td>\n",
       "      <td>KHONKAEN</td>\n",
       "      <td>ADIDAS</td>\n",
       "      <td>AD-SOCK-10</td>\n",
       "      <td>5</td>\n",
       "      <td>2024-03-17 21:24:28</td>\n",
       "    </tr>\n",
       "    <tr>\n",
       "      <th>7</th>\n",
       "      <td>ORD185529</td>\n",
       "      <td>3433</td>\n",
       "      <td>CUST7549</td>\n",
       "      <td>CHIANGMAI</td>\n",
       "      <td>NIKE</td>\n",
       "      <td>NI-BAG-48</td>\n",
       "      <td>2</td>\n",
       "      <td>2024-07-04 05:03:54</td>\n",
       "    </tr>\n",
       "    <tr>\n",
       "      <th>8</th>\n",
       "      <td>ORD243169</td>\n",
       "      <td>3743</td>\n",
       "      <td>CUST7014</td>\n",
       "      <td>PHUKET</td>\n",
       "      <td>ADIDAS</td>\n",
       "      <td>AD-BAG-11</td>\n",
       "      <td>2</td>\n",
       "      <td>2024-01-14 19:14:15</td>\n",
       "    </tr>\n",
       "    <tr>\n",
       "      <th>9</th>\n",
       "      <td>ORD322447</td>\n",
       "      <td>5937</td>\n",
       "      <td>CUST7922</td>\n",
       "      <td>BANGKOK</td>\n",
       "      <td>NEWBALANCE</td>\n",
       "      <td>NE-BAG-03</td>\n",
       "      <td>3</td>\n",
       "      <td>2024-06-28 07:12:14</td>\n",
       "    </tr>\n",
       "  </tbody>\n",
       "</table>\n",
       "</div>"
      ],
      "text/plain": [
       "    order_no  amount customer_no     branch       brand         sku  quantity  \\\n",
       "0  ORD350427    5940    CUST9271   KHONKAEN        PUMA  PU-PANT-35         4   \n",
       "1  ORD205951    8683    CUST4294     PHUKET      REEBOK  RE-SHOE-15         2   \n",
       "2  ORD106275     557    CUST7958  CHIANGMAI      ADIDAS  AD-SHOE-45         1   \n",
       "3  ORD281469    9426    CUST0579     HATYAI        NIKE   NI-BAG-28         4   \n",
       "4  ORD262961    3803    CUST9070   KHONKAEN      REEBOK  RE-SHOE-43         4   \n",
       "5  ORD110856    3489    CUST8122   KHONKAEN      ADIDAS   AD-CAP-20         5   \n",
       "6  ORD331406    2834    CUST9909   KHONKAEN      ADIDAS  AD-SOCK-10         5   \n",
       "7  ORD185529    3433    CUST7549  CHIANGMAI        NIKE   NI-BAG-48         2   \n",
       "8  ORD243169    3743    CUST7014     PHUKET      ADIDAS   AD-BAG-11         2   \n",
       "9  ORD322447    5937    CUST7922    BANGKOK  NEWBALANCE   NE-BAG-03         3   \n",
       "\n",
       "  transaction_datetime  \n",
       "0  2024-01-12 23:27:39  \n",
       "1  2024-02-02 22:08:06  \n",
       "2  2024-12-25 00:23:41  \n",
       "3  2024-10-22 04:46:38  \n",
       "4  2024-08-24 14:26:03  \n",
       "5  2024-03-12 17:32:03  \n",
       "6  2024-03-17 21:24:28  \n",
       "7  2024-07-04 05:03:54  \n",
       "8  2024-01-14 19:14:15  \n",
       "9  2024-06-28 07:12:14  "
      ]
     },
     "execution_count": 13,
     "metadata": {},
     "output_type": "execute_result"
    }
   ],
   "source": [
    "import pandas as pd\n",
    "import numpy as np\n",
    "import matplotlib.pyplot as plt\n",
    "import seaborn as sns\n",
    "\n",
    "# Load data\n",
    "df = pd.read_csv('large_order_data_2024/large_order_data_2024.csv')\n",
    "df['transaction_datetime'] = pd.to_datetime(df['transaction_datetime'])\n",
    "\n",
    "print(f\"Total records: {len(df):,}\")\n",
    "print(f\"Date range: {df['transaction_datetime'].min()} to {df['transaction_datetime'].max()}\")\n",
    "print(f\"\\nData shape: {df.shape}\")\n",
    "df.head(10)"
   ]
  },
  {
   "cell_type": "code",
   "execution_count": 14,
   "metadata": {},
   "outputs": [
    {
     "name": "stdout",
     "output_type": "stream",
     "text": [
      "=== TOP 20 CUSTOMERS BY SPENDING ===\n",
      "             Total_Orders  Total_Spent  Total_Items  Avg_Order_Value\n",
      "customer_no                                                         \n",
      "CUST1033              137       757452          414          5528.85\n",
      "CUST4327              131       752124          402          5741.40\n",
      "CUST0788              139       732609          416          5270.57\n",
      "CUST6214              125       723501          382          5788.01\n",
      "CUST4430              120       722868          356          6023.90\n",
      "CUST0161              121       721033          361          5958.95\n",
      "CUST9839              131       719359          387          5491.29\n",
      "CUST4630              138       717498          411          5199.26\n",
      "CUST6144              129       713544          404          5531.35\n",
      "CUST7560              130       708156          381          5447.35\n",
      "CUST6609              120       707822          347          5898.52\n",
      "CUST0974              124       706666          376          5698.92\n",
      "CUST5267              120       705948          376          5882.90\n",
      "CUST8627              127       702793          378          5533.80\n",
      "CUST6636              129       701434          367          5437.47\n",
      "CUST7996              124       700046          365          5645.53\n",
      "CUST9894              123       699137          376          5684.04\n",
      "CUST4347              135       697095          421          5163.67\n",
      "CUST6435              122       696980          381          5712.95\n",
      "CUST9869              122       695956          371          5704.56\n",
      "\n",
      "Top customer: CUST1033 spent 757,452.00 THB in 137 orders\n"
     ]
    }
   ],
   "source": [
    "# Top 20 ลูกค้าที่ใช้จ่ายมากที่สุด\n",
    "if 'customer_stats' not in globals():\n",
    "    customer_stats = df.groupby('customer_no').agg({\n",
    "        'order_no': 'count',\n",
    "        'amount': 'sum',\n",
    "        'quantity': 'sum'\n",
    "    }).round(2)\n",
    "    customer_stats.columns = ['Total_Orders', 'Total_Spent', 'Total_Items']\n",
    "\n",
    "top_customers = customer_stats.sort_values(\"Total_Spent\", ascending=False).head(20)\n",
    "top_customers[\"Avg_Order_Value\"] = (top_customers[\"Total_Spent\"] / top_customers[\"Total_Orders\"]).round(2)\n",
    "\n",
    "top_customer_id = top_customers.index[0]\n",
    "top_customer_spent = top_customers[\"Total_Spent\"].iloc[0]\n",
    "top_customer_orders = int(top_customers[\"Total_Orders\"].iloc[0])\n",
    "\n",
    "print(\"=== TOP 20 CUSTOMERS BY SPENDING ===\")\n",
    "print(top_customers)\n",
    "print(f\"\\nTop customer: {top_customer_id} spent {top_customer_spent:,.2f} THB in {top_customer_orders} orders\")\n"
   ]
  },
  {
   "cell_type": "code",
   "execution_count": 15,
   "metadata": {},
   "outputs": [
    {
     "name": "stdout",
     "output_type": "stream",
     "text": [
      "=== MONTHLY PERFORMANCE ===\n",
      "                  Orders    Revenue  Unique_Customers\n",
      "month month_name                                     \n",
      "1     January      84542  444679316              9996\n",
      "2     February     80041  420625567              9997\n",
      "3     March        84862  444463603              9999\n",
      "4     April        81756  429132573              9998\n",
      "5     May          84549  444012339              9997\n",
      "6     June         82062  431766120              9997\n",
      "7     July         85913  450449140              9999\n",
      "8     August       84604  444924002              9998\n",
      "9     September    82162  432276684              9998\n",
      "10    October      84006  441131340              9999\n",
      "11    November     82153  430921017              9997\n",
      "12    December     83350  436089770              9998\n",
      "\n",
      "Best month: July (Month 7) with 450,449,140.00 THB\n"
     ]
    }
   ],
   "source": [
    "# เพิ่ม columns สำหรับการวิเคราะห์เวลา\n",
    "df['month'] = df['transaction_datetime'].dt.month\n",
    "df['month_name'] = df['transaction_datetime'].dt.strftime('%B')\n",
    "df['day_of_week'] = df['transaction_datetime'].dt.day_name()\n",
    "df['hour'] = df['transaction_datetime'].dt.hour\n",
    "\n",
    "# สถิติรายเดือน\n",
    "monthly_stats = df.groupby(['month', 'month_name']).agg({\n",
    "    'order_no': 'count',\n",
    "    'amount': 'sum',\n",
    "    'customer_no': 'nunique'\n",
    "}).round(2)\n",
    "\n",
    "monthly_stats.columns = ['Orders', 'Revenue', 'Unique_Customers']\n",
    "\n",
    "print(\"=== MONTHLY PERFORMANCE ===\")\n",
    "print(monthly_stats)\n",
    "best_month_idx = monthly_stats['Revenue'].idxmax()\n",
    "print(f\"\\nBest month: {best_month_idx[1]} (Month {best_month_idx[0]}) with {monthly_stats['Revenue'].max():,.2f} THB\")"
   ]
  },
  {
   "cell_type": "code",
   "execution_count": 16,
   "metadata": {},
   "outputs": [
    {
     "name": "stdout",
     "output_type": "stream",
     "text": [
      "=== HOURLY PERFORMANCE ===\n",
      "      Orders    Revenue\n",
      "hour                   \n",
      "0      42544  223542319\n",
      "1      41420  217813907\n",
      "2      41647  218981689\n",
      "3      41535  218413606\n",
      "4      41874  219649595\n",
      "5      41026  215078428\n",
      "6      41626  218628482\n",
      "7      42369  222023868\n",
      "8      41594  218329033\n",
      "9      42291  221955884\n",
      "10     42250  222453008\n",
      "11     41551  217111974\n",
      "12     40597  213962237\n",
      "13     41378  217440272\n",
      "14     41247  217053083\n",
      "15     41218  216208732\n",
      "16     41398  217323406\n",
      "17     41864  219348544\n",
      "18     42169  221360223\n",
      "19     42195  221950738\n",
      "20     42340  222295377\n",
      "21     40307  211524135\n",
      "22     41709  218853520\n",
      "23     41851  219169411\n",
      "\n",
      "Peak hour: 0:00 with 42,544 orders\n"
     ]
    }
   ],
   "source": [
    "# สถิติตามช่วงเวลา (hourly)\n",
    "hourly_stats = df.groupby('hour').agg({\n",
    "    'order_no': 'count',\n",
    "    'amount': 'sum'\n",
    "}).round(2)\n",
    "\n",
    "hourly_stats.columns = ['Orders', 'Revenue']\n",
    "\n",
    "print(\"=== HOURLY PERFORMANCE ===\")\n",
    "print(hourly_stats)\n",
    "print(f\"\\nPeak hour: {hourly_stats['Orders'].idxmax()}:00 with {hourly_stats['Orders'].max():,} orders\")"
   ]
  },
  {
   "cell_type": "code",
   "execution_count": 17,
   "metadata": {},
   "outputs": [
    {
     "name": "stdout",
     "output_type": "stream",
     "text": [
      "=== TOP 20 BRANCH × BRAND COMBINATIONS ===\n",
      "                      Orders    Revenue\n",
      "branch    brand                        \n",
      "KHONKAEN  NIKE         40219  211682130\n",
      "BANGKOK   PUMA         40058  211497370\n",
      "PHUKET    PUMA         40217  211346970\n",
      "KHONKAEN  ADIDAS       40165  211287908\n",
      "          NEWBALANCE   40202  211214435\n",
      "          PUMA         40177  210944747\n",
      "PHUKET    NIKE         40117  210891182\n",
      "HATYAI    NIKE         40109  210799828\n",
      "KHONKAEN  REEBOK       40064  210603101\n",
      "CHIANGMAI NEWBALANCE   40076  210475501\n",
      "BANGKOK   NEWBALANCE   40140  210370828\n",
      "          REEBOK       40075  210352893\n",
      "CHIANGMAI NIKE         40137  210157099\n",
      "BANGKOK   ADIDAS       40065  210119743\n",
      "          NIKE         39846  210098002\n",
      "PHUKET    NEWBALANCE   40105  209874357\n",
      "CHIANGMAI PUMA         40014  209684660\n",
      "HATYAI    REEBOK       39888  209470944\n",
      "          NEWBALANCE   39803  209409577\n",
      "CHIANGMAI REEBOK       39827  208889736\n"
     ]
    }
   ],
   "source": [
    "# วิเคราะห์ยอดขายแยกตาม branch และ brand\n",
    "branch_brand = df.groupby(['branch', 'brand']).agg({\n",
    "    'order_no': 'count',\n",
    "    'amount': 'sum'\n",
    "}).round(2)\n",
    "\n",
    "branch_brand.columns = ['Orders', 'Revenue']\n",
    "branch_brand = branch_brand.sort_values('Revenue', ascending=False)\n",
    "\n",
    "print(\"=== TOP 20 BRANCH × BRAND COMBINATIONS ===\")\n",
    "print(branch_brand.head(20))"
   ]
  },
  {
   "cell_type": "code",
   "execution_count": 18,
   "metadata": {},
   "outputs": [
    {
     "data": {
      "image/png": "[encoded data removed]",
      "text/plain": [
       "<Figure size 1200x600 with 1 Axes>"
      ]
     },
     "metadata": {},
     "output_type": "display_data"
    },
    {
     "name": "stdout",
     "output_type": "stream",
     "text": [
      "\n",
      "Total Revenue by Branch:\n",
      "KHONKAEN: 1,055,732,321.00 THB\n",
      "BANGKOK: 1,052,438,836.00 THB\n",
      "PHUKET: 1,049,543,787.00 THB\n",
      "CHIANGMAI: 1,047,364,247.00 THB\n",
      "HATYAI: 1,045,392,280.00 THB\n"
     ]
    }
   ],
   "source": [
    "# Revenue by Branch - Bar chart with values\n",
    "fig, ax = plt.subplots(figsize=(12, 6))\n",
    "branch_revenue = df.groupby('branch')['amount'].sum().sort_values(ascending=False)\n",
    "bars = ax.bar(range(len(branch_revenue)), branch_revenue.values)\n",
    "ax.set_xticks(range(len(branch_revenue)))\n",
    "ax.set_xticklabels(branch_revenue.index, rotation=45, ha='right')\n",
    "ax.set_ylabel('Revenue (THB)', fontsize=12)\n",
    "ax.set_xlabel('Branch', fontsize=12)\n",
    "ax.set_title('Total Revenue by Branch', fontsize=14, fontweight='bold')\n",
    "\n",
    "# Add value labels on bars\n",
    "for i, (bar, value) in enumerate(zip(bars, branch_revenue.values)):\n",
    "    ax.text(bar.get_x() + bar.get_width()/2, bar.get_height() + 50000, \n",
    "            f'{value:,.0f}', ha='center', va='bottom', fontsize=10)\n",
    "\n",
    "plt.tight_layout()\n",
    "plt.show()\n",
    "\n",
    "print(f\"\\nTotal Revenue by Branch:\")\n",
    "for branch, revenue in branch_revenue.items():\n",
    "    print(f\"{branch}: {revenue:,.2f} THB\")"
   ]
  },
  {
   "cell_type": "markdown",
   "metadata": {},
   "source": [
    "## Key Insights Summary สำหรับการ Generate Data"
   ]
  },
  {
   "cell_type": "code",
   "execution_count": 19,
   "metadata": {},
   "outputs": [
    {
     "name": "stdout",
     "output_type": "stream",
     "text": [
      "================================================================================\n",
      "                        KEY INSIGHTS FOR DATA GENERATION                        \n",
      "================================================================================\n",
      "\n",
      "1. DATA VOLUME:\n",
      "   - Total Orders: 1,000,000\n",
      "   - Unique Customers: 10,000\n",
      "   - Avg Orders per Customer: 100.00\n",
      "\n",
      "2. REVENUE PATTERNS:\n",
      "   - Total Revenue: 5,250,471,471.00 THB\n",
      "   - Average Order Value: 5,250.47 THB\n",
      "   - Median Order Value: 5,249.00 THB\n",
      "   - Min Order: 500.00 THB\n",
      "   - Max Order: 9,999.00 THB\n",
      "\n",
      "3. QUANTITY PATTERNS:\n",
      "   - Quantity Range: 1 - 5 items\n",
      "   - Average Quantity: 3.00 items\n",
      "   - Most Common Quantity: 2 items\n",
      "\n",
      "4. LOCATION:\n",
      "   - Branches: BANGKOK, CHIANGMAI, HATYAI, KHONKAEN, PHUKET\n",
      "   - Top Branch: KHONKAEN\n",
      "\n",
      "5. BRANDS:\n",
      "   - Available: ADIDAS, NEWBALANCE, NIKE, PUMA, REEBOK\n",
      "   - Most Popular: NIKE\n",
      "\n",
      "6. PRODUCTS:\n",
      "   - Total SKUs: 1250\n",
      "   - Product Types: BAG, CAP, PANT, SHOE, SOCK\n",
      "   - Top Category: SOCK\n",
      "\n",
      "7. TIME PATTERNS:\n",
      "   - Date Range: 2024-01-01 to 2024-12-30\n",
      "   - Peak Hour: 0:00\n",
      "   - Busiest Day: Monday\n",
      "   - Best Month: July (Month 7)\n",
      "\n",
      "================================================================================\n"
     ]
    }
   ],
   "source": [
    "if 'month' not in df.columns:\n",
    "    df['month'] = df['transaction_datetime'].dt.month\n",
    "if 'month_name' not in df.columns:\n",
    "    df['month_name'] = df['transaction_datetime'].dt.strftime('%B')\n",
    "if 'day_of_week' not in df.columns:\n",
    "    df['day_of_week'] = df['transaction_datetime'].dt.day_name()\n",
    "if 'hour' not in df.columns:\n",
    "    df['hour'] = df['transaction_datetime'].dt.hour\n",
    "if 'product_type' not in df.columns:\n",
    "    df['product_type'] = df['sku'].str.split('-').str[1]\n",
    "\n",
    "print(\"=\"*80)\n",
    "print(\"KEY INSIGHTS FOR DATA GENERATION\".center(80))\n",
    "print(\"=\"*80)\n",
    "\n",
    "print(f\"\\n1. DATA VOLUME:\")\n",
    "print(f\"   - Total Orders: {len(df):,}\")\n",
    "print(f\"   - Unique Customers: {df['customer_no'].nunique():,}\")\n",
    "print(f\"   - Avg Orders per Customer: {len(df) / df['customer_no'].nunique():.2f}\")\n",
    "\n",
    "print(f\"\\n2. REVENUE PATTERNS:\")\n",
    "print(f\"   - Total Revenue: {df['amount'].sum():,.2f} THB\")\n",
    "print(f\"   - Average Order Value: {df['amount'].mean():,.2f} THB\")\n",
    "print(f\"   - Median Order Value: {df['amount'].median():,.2f} THB\")\n",
    "print(f\"   - Min Order: {df['amount'].min():,.2f} THB\")\n",
    "print(f\"   - Max Order: {df['amount'].max():,.2f} THB\")\n",
    "\n",
    "print(f\"\\n3. QUANTITY PATTERNS:\")\n",
    "print(f\"   - Quantity Range: {df['quantity'].min()} - {df['quantity'].max()} items\")\n",
    "print(f\"   - Average Quantity: {df['quantity'].mean():.2f} items\")\n",
    "print(f\"   - Most Common Quantity: {df['quantity'].mode()[0]} items\")\n",
    "\n",
    "print(f\"\\n4. LOCATION:\")\n",
    "print(f\"   - Branches: {', '.join(sorted(df['branch'].unique()))}\")\n",
    "top_branch = df.groupby('branch')['amount'].sum().idxmax()\n",
    "print(f\"   - Top Branch: {top_branch}\")\n",
    "\n",
    "print(f\"\\n5. BRANDS:\")\n",
    "print(f\"   - Available: {', '.join(sorted(df['brand'].unique()))}\")\n",
    "top_brand = df.groupby('brand')['order_no'].count().idxmax()\n",
    "print(f\"   - Most Popular: {top_brand}\")\n",
    "\n",
    "print(f\"\\n6. PRODUCTS:\")\n",
    "print(f\"   - Total SKUs: {df['sku'].nunique()}\")\n",
    "print(f\"   - Product Types: {', '.join(sorted(df['product_type'].unique()))}\")\n",
    "top_product = df.groupby('product_type')['order_no'].count().idxmax()\n",
    "print(f\"   - Top Category: {top_product}\")\n",
    "\n",
    "print(f\"\\n7. TIME PATTERNS:\")\n",
    "print(f\"   - Date Range: {df['transaction_datetime'].min().date()} to {df['transaction_datetime'].max().date()}\")\n",
    "print(f\"   - Peak Hour: {df.groupby('hour')['order_no'].count().idxmax()}:00\")\n",
    "print(f\"   - Busiest Day: {df.groupby('day_of_week')['order_no'].count().idxmax()}\")\n",
    "best_month_idx = df.groupby(['month', 'month_name'])['amount'].sum().idxmax()\n",
    "print(f\"   - Best Month: {best_month_idx[1]} (Month {best_month_idx[0]})\")\n",
    "\n",
    "print(\"\\n\" + \"=\"*80)"
   ]
  },
  {
   "cell_type": "code",
   "execution_count": 20,
   "metadata": {},
   "outputs": [
    {
     "data": {
      "image/png": "[encoded data removed]",
      "text/plain": [
       "<Figure size 1000x800 with 1 Axes>"
      ]
     },
     "metadata": {},
     "output_type": "display_data"
    },
    {
     "name": "stdout",
     "output_type": "stream",
     "text": [
      "\n",
      "Brand Market Share:\n",
      "NIKE: 1,053,628,241.00 THB (20.07%)\n",
      "NEWBALANCE: 1,051,344,698.00 THB (20.02%)\n",
      "PUMA: 1,050,968,188.00 THB (20.02%)\n",
      "REEBOK: 1,048,159,122.00 THB (19.96%)\n",
      "ADIDAS: 1,046,371,222.00 THB (19.93%)\n"
     ]
    }
   ],
   "source": [
    "# Brand Market Share - Pie chart with percentages\n",
    "fig, ax = plt.subplots(figsize=(10, 8))\n",
    "brand_revenue = df.groupby('brand')['amount'].sum().sort_values(ascending=False)\n",
    "colors = plt.cm.Set3(range(len(brand_revenue)))\n",
    "\n",
    "wedges, texts, autotexts = ax.pie(brand_revenue.values, \n",
    "                                    labels=brand_revenue.index,\n",
    "                                    autopct='%1.1f%%',\n",
    "                                    colors=colors,\n",
    "                                    startangle=90,\n",
    "                                    textprops={'fontsize': 11})\n",
    "\n",
    "# Make percentage text bold\n",
    "for autotext in autotexts:\n",
    "    autotext.set_color('white')\n",
    "    autotext.set_fontweight('bold')\n",
    "\n",
    "ax.set_title('Brand Market Share by Revenue', fontsize=14, fontweight='bold', pad=20)\n",
    "plt.tight_layout()\n",
    "plt.show()\n",
    "\n",
    "print(f\"\\nBrand Market Share:\")\n",
    "total_revenue = brand_revenue.sum()\n",
    "for brand, revenue in brand_revenue.items():\n",
    "    percentage = (revenue / total_revenue) * 100\n",
    "    print(f\"{brand}: {revenue:,.2f} THB ({percentage:.2f}%)\")"
   ]
  },
  {
   "cell_type": "code",
   "execution_count": 21,
   "metadata": {},
   "outputs": [
    {
     "name": "stdout",
     "output_type": "stream",
     "text": [
      "=== DAY OF WEEK PERFORMANCE ===\n",
      "             Orders    Revenue\n",
      "day_of_week                   \n",
      "Monday       144801  759505005\n",
      "Tuesday      141816  744048040\n",
      "Wednesday    142886  751058094\n",
      "Thursday     142144  746924276\n",
      "Friday       142233  746751516\n",
      "Saturday     142842  750909185\n",
      "Sunday       143278  751275355\n",
      "\n",
      "Busiest day: Monday with 144,801 orders\n"
     ]
    }
   ],
   "source": [
    "if 'day_of_week' not in df.columns:\n",
    "    df['day_of_week'] = df['transaction_datetime'].dt.day_name()\n",
    "\n",
    "# สถิติตามวันในสัปดาห์\n",
    "weekday_stats = df.groupby('day_of_week').agg({\n",
    "    'order_no': 'count',\n",
    "    'amount': 'sum'\n",
    "}).round(2)\n",
    "\n",
    "weekday_stats.columns = ['Orders', 'Revenue']\n",
    "# เรียงลำดับวัน\n",
    "day_order = ['Monday', 'Tuesday', 'Wednesday', 'Thursday', 'Friday', 'Saturday', 'Sunday']\n",
    "weekday_stats = weekday_stats.reindex([d for d in day_order if d in weekday_stats.index])\n",
    "\n",
    "print(\"=== DAY OF WEEK PERFORMANCE ===\")\n",
    "print(weekday_stats)\n",
    "print(f\"\\nBusiest day: {weekday_stats['Orders'].idxmax()} with {weekday_stats['Orders'].max():,} orders\")\n"
   ]
  },
  {
   "cell_type": "markdown",
   "metadata": {},
   "source": [
    "## Time Analysis"
   ]
  },
  {
   "cell_type": "code",
   "execution_count": 22,
   "metadata": {},
   "outputs": [
    {
     "name": "stdout",
     "output_type": "stream",
     "text": [
      "=== CUSTOMER BEHAVIOR ===\n",
      "Total unique customers: 10,000\n",
      "\n",
      "Orders per customer:\n",
      "count    10000.000000\n",
      "mean       100.000000\n",
      "std         10.045889\n",
      "min         65.000000\n",
      "25%         93.000000\n",
      "50%        100.000000\n",
      "75%        107.000000\n",
      "max        140.000000\n",
      "Name: Total_Orders, dtype: float64\n",
      "\n",
      "Spending per customer:\n",
      "count     10000.000000\n",
      "mean     525047.147100\n",
      "std       59435.872201\n",
      "min      314356.000000\n",
      "25%      483502.500000\n",
      "50%      524684.000000\n",
      "75%      564888.500000\n",
      "max      757452.000000\n",
      "Name: Total_Spent, dtype: float64\n",
      "\n",
      "=== ORDER FREQUENCY DISTRIBUTION ===\n",
      "Total_Orders\n",
      "65     1\n",
      "66     2\n",
      "67     1\n",
      "69     4\n",
      "70     5\n",
      "71     5\n",
      "72     4\n",
      "73    12\n",
      "74    15\n",
      "75    14\n",
      "Name: count, dtype: int64\n"
     ]
    }
   ],
   "source": [
    "# สถิติลูกค้า\n",
    "customer_stats = df.groupby('customer_no').agg({\n",
    "    'order_no': 'count',\n",
    "    'amount': 'sum',\n",
    "    'quantity': 'sum'\n",
    "}).round(2)\n",
    "\n",
    "customer_stats.columns = ['Total_Orders', 'Total_Spent', 'Total_Items']\n",
    "\n",
    "print(\"=== CUSTOMER BEHAVIOR ===\")\n",
    "print(f\"Total unique customers: {len(customer_stats):,}\")\n",
    "print(f\"\\nOrders per customer:\")\n",
    "print(customer_stats['Total_Orders'].describe())\n",
    "print(f\"\\nSpending per customer:\")\n",
    "print(customer_stats['Total_Spent'].describe())\n",
    "\n",
    "# การกระจายของจำนวน orders ต่อลูกค้า\n",
    "order_distribution = customer_stats['Total_Orders'].value_counts().sort_index()\n",
    "print(f\"\\n=== ORDER FREQUENCY DISTRIBUTION ===\")\n",
    "print(order_distribution.head(10))"
   ]
  },
  {
   "cell_type": "code",
   "execution_count": 23,
   "metadata": {},
   "outputs": [
    {
     "name": "stdout",
     "output_type": "stream",
     "text": [
      "=== TOP 20 SKUs BY REVENUE ===\n",
      "            Orders  Total_Revenue  Total_Quantity\n",
      "sku                                              \n",
      "NE-BAG-28      881        4816083            2669\n",
      "AD-SOCK-02     889        4752138            2567\n",
      "NE-PANT-30     887        4743953            2695\n",
      "PU-SHOE-17     859        4699746            2633\n",
      "NE-SHOE-23     868        4693330            2594\n",
      "RE-PANT-40     869        4679566            2633\n",
      "NI-SHOE-48     873        4656064            2677\n",
      "AD-BAG-20      858        4632840            2545\n",
      "NI-SOCK-23     859        4630074            2480\n",
      "PU-PANT-49     860        4628103            2586\n",
      "NI-CAP-32      867        4609734            2634\n",
      "NE-SHOE-05     820        4601218            2507\n",
      "PU-CAP-09      869        4598531            2586\n",
      "PU-CAP-42      888        4598435            2690\n",
      "NE-CAP-41      865        4597834            2592\n",
      "AD-CAP-06      878        4597785            2598\n",
      "AD-BAG-23      868        4595009            2593\n",
      "AD-PANT-30     859        4589979            2597\n",
      "NE-PANT-11     880        4581142            2631\n",
      "NE-SHOE-29     848        4580884            2536\n",
      "\n",
      "Top SKU: NE-BAG-28 with 4,816,083.00 THB\n"
     ]
    }
   ],
   "source": [
    "# Top 20 SKUs ตามยอดขาย\n",
    "top_skus = df.groupby('sku').agg({\n",
    "    'order_no': 'count',\n",
    "    'amount': 'sum',\n",
    "    'quantity': 'sum'\n",
    "}).round(2)\n",
    "\n",
    "top_skus.columns = ['Orders', 'Total_Revenue', 'Total_Quantity']\n",
    "top_skus = top_skus.sort_values('Total_Revenue', ascending=False).head(20)\n",
    "\n",
    "print(\"=== TOP 20 SKUs BY REVENUE ===\")\n",
    "print(top_skus)\n",
    "print(f\"\\nTop SKU: {top_skus.index[0]} with {top_skus['Total_Revenue'].iloc[0]:,.2f} THB\")"
   ]
  },
  {
   "cell_type": "code",
   "execution_count": 24,
   "metadata": {},
   "outputs": [
    {
     "name": "stdout",
     "output_type": "stream",
     "text": [
      "=== PRODUCT TYPE PERFORMANCE ===\n",
      "              Orders  Total_Revenue  Avg_Amount  Total_Quantity  \\\n",
      "product_type                                                      \n",
      "SOCK          200385     1052540833     5252.59          600836   \n",
      "PANT          200207     1050377346     5246.46          601402   \n",
      "SHOE          200030     1050158633     5250.01          600308   \n",
      "BAG           199893     1048705716     5246.34          599089   \n",
      "CAP           199485     1048688943     5256.98          597550   \n",
      "\n",
      "              Revenue_Percentage  \n",
      "product_type                      \n",
      "SOCK                       20.05  \n",
      "PANT                       20.01  \n",
      "SHOE                       20.00  \n",
      "BAG                        19.97  \n",
      "CAP                        19.97  \n",
      "\n",
      "Product types available: ['BAG', 'CAP', 'PANT', 'SHOE', 'SOCK']\n"
     ]
    }
   ],
   "source": [
    "# แยกประเภทสินค้าจาก SKU (เช่น SHOE, BAG, SOCK)\n",
    "df['product_type'] = df['sku'].str.split('-').str[1]\n",
    "\n",
    "product_stats = df.groupby('product_type').agg({\n",
    "    'order_no': 'count',\n",
    "    'amount': ['sum', 'mean'],\n",
    "    'quantity': 'sum'\n",
    "}).round(2)\n",
    "\n",
    "product_stats.columns = ['Orders', 'Total_Revenue', 'Avg_Amount', 'Total_Quantity']\n",
    "product_stats = product_stats.sort_values('Total_Revenue', ascending=False)\n",
    "product_stats['Revenue_Percentage'] = (product_stats['Total_Revenue'] / product_stats['Total_Revenue'].sum() * 100).round(2)\n",
    "\n",
    "print(\"=== PRODUCT TYPE PERFORMANCE ===\")\n",
    "print(product_stats)\n",
    "print(f\"\\nProduct types available: {sorted(df['product_type'].unique())}\")"
   ]
  },
  {
   "cell_type": "code",
   "execution_count": 25,
   "metadata": {},
   "outputs": [
    {
     "name": "stdout",
     "output_type": "stream",
     "text": [
      "=== BRAND PERFORMANCE ===\n",
      "            Orders  Total_Revenue  Avg_Amount  Median_Amount  \\\n",
      "brand                                                          \n",
      "NIKE        200428     1053628241     5256.89         5262.0   \n",
      "NEWBALANCE  200326     1051344698     5248.17         5245.0   \n",
      "PUMA        200078     1050968188     5252.79         5255.0   \n",
      "REEBOK      199782     1048159122     5246.51         5234.0   \n",
      "ADIDAS      199386     1046371222     5247.97         5248.0   \n",
      "\n",
      "            Unique_Customers  Total_Quantity  Revenue_Percentage  \n",
      "brand                                                             \n",
      "NIKE                   10000          601492               20.07  \n",
      "NEWBALANCE             10000          600045               20.02  \n",
      "PUMA                   10000          599919               20.02  \n",
      "REEBOK                 10000          599630               19.96  \n",
      "ADIDAS                 10000          598099               19.93  \n",
      "\n",
      "Top brand: NIKE with 200,428 orders\n"
     ]
    }
   ],
   "source": [
    "# สถิติแต่ละ brand\n",
    "brand_stats = df.groupby('brand').agg({\n",
    "    'order_no': 'count',\n",
    "    'amount': ['sum', 'mean', 'median'],\n",
    "    'customer_no': 'nunique',\n",
    "    'quantity': 'sum'\n",
    "}).round(2)\n",
    "\n",
    "brand_stats.columns = ['Orders', 'Total_Revenue', 'Avg_Amount', 'Median_Amount', 'Unique_Customers', 'Total_Quantity']\n",
    "brand_stats = brand_stats.sort_values('Total_Revenue', ascending=False)\n",
    "brand_stats['Revenue_Percentage'] = (brand_stats['Total_Revenue'] / brand_stats['Total_Revenue'].sum() * 100).round(2)\n",
    "\n",
    "print(\"=== BRAND PERFORMANCE ===\")\n",
    "print(brand_stats)\n",
    "print(f\"\\nTop brand: {brand_stats.index[0]} with {brand_stats['Orders'].iloc[0]:,} orders\")"
   ]
  },
  {
   "cell_type": "code",
   "execution_count": 26,
   "metadata": {},
   "outputs": [
    {
     "name": "stdout",
     "output_type": "stream",
     "text": [
      "=== BRANCH PERFORMANCE ===\n",
      "           Orders  Total_Revenue  Avg_Amount  Median_Amount  Unique_Customers  \\\n",
      "branch                                                                          \n",
      "KHONKAEN   200827     1055732321     5256.92         5258.0             10000   \n",
      "BANGKOK    200184     1052438836     5257.36         5263.0             10000   \n",
      "PHUKET     200133     1049543787     5244.23         5247.0             10000   \n",
      "CHIANGMAI  199790     1047364247     5242.33         5234.0             10000   \n",
      "HATYAI     199066     1045392280     5251.49         5247.0             10000   \n",
      "\n",
      "           Total_Quantity  Revenue_Percentage  \n",
      "branch                                         \n",
      "KHONKAEN           602283               20.11  \n",
      "BANGKOK            601309               20.04  \n",
      "PHUKET             599472               19.99  \n",
      "CHIANGMAI          599144               19.95  \n",
      "HATYAI             596977               19.91  \n",
      "\n",
      "Top branch: KHONKAEN with 1,055,732,321.00 THB\n"
     ]
    }
   ],
   "source": [
    "# สถิติแต่ละสาขา\n",
    "branch_stats = df.groupby('branch').agg({\n",
    "    'order_no': 'count',\n",
    "    'amount': ['sum', 'mean', 'median'],\n",
    "    'customer_no': 'nunique',\n",
    "    'quantity': 'sum'\n",
    "}).round(2)\n",
    "\n",
    "branch_stats.columns = ['Orders', 'Total_Revenue', 'Avg_Amount', 'Median_Amount', 'Unique_Customers', 'Total_Quantity']\n",
    "branch_stats = branch_stats.sort_values('Total_Revenue', ascending=False)\n",
    "branch_stats['Revenue_Percentage'] = (branch_stats['Total_Revenue'] / branch_stats['Total_Revenue'].sum() * 100).round(2)\n",
    "\n",
    "print(\"=== BRANCH PERFORMANCE ===\")\n",
    "print(branch_stats)\n",
    "print(f\"\\nTop branch: {branch_stats.index[0]} with {branch_stats['Total_Revenue'].iloc[0]:,.2f} THB\")"
   ]
  },
  {
   "cell_type": "code",
   "execution_count": 27,
   "metadata": {},
   "outputs": [
    {
     "name": "stdout",
     "output_type": "stream",
     "text": [
      "=== UNIQUE VALUES ===\n",
      "Unique Customers: 10,000\n",
      "Unique Orders: 316,875\n",
      "Unique SKUs: 1,250\n",
      "Unique Branches: 5\n",
      "Unique Brands: 5\n",
      "\n",
      "Branches: ['BANGKOK', 'CHIANGMAI', 'HATYAI', 'KHONKAEN', 'PHUKET']\n",
      "Brands: ['ADIDAS', 'NEWBALANCE', 'NIKE', 'PUMA', 'REEBOK']\n"
     ]
    }
   ],
   "source": [
    "# จำนวน unique values แต่ละ column\n",
    "print(\"=== UNIQUE VALUES ===\")\n",
    "print(f\"Unique Customers: {df['customer_no'].nunique():,}\")\n",
    "print(f\"Unique Orders: {df['order_no'].nunique():,}\")\n",
    "print(f\"Unique SKUs: {df['sku'].nunique():,}\")\n",
    "print(f\"Unique Branches: {df['branch'].nunique()}\")\n",
    "print(f\"Unique Brands: {df['brand'].nunique()}\")\n",
    "\n",
    "# แสดง branches และ brands ทั้งหมด\n",
    "print(f\"\\nBranches: {sorted(df['branch'].unique())}\")\n",
    "print(f\"Brands: {sorted(df['brand'].unique())}\")"
   ]
  },
  {
   "cell_type": "code",
   "execution_count": 28,
   "metadata": {},
   "outputs": [
    {
     "name": "stdout",
     "output_type": "stream",
     "text": [
      "=== AMOUNT STATISTICS ===\n",
      "count    1000000.000000\n",
      "mean        5250.471471\n",
      "std         2742.145686\n",
      "min          500.000000\n",
      "25%         2876.000000\n",
      "50%         5249.000000\n",
      "75%         7624.000000\n",
      "max         9999.000000\n",
      "Name: amount, dtype: float64\n",
      "\n",
      "Total Revenue: 5,250,471,471.00 THB\n",
      "\n",
      "=== QUANTITY STATISTICS ===\n",
      "count    1000000.000000\n",
      "mean           2.999185\n",
      "std            1.414245\n",
      "min            1.000000\n",
      "25%            2.000000\n",
      "50%            3.000000\n",
      "75%            4.000000\n",
      "max            5.000000\n",
      "Name: quantity, dtype: float64\n"
     ]
    }
   ],
   "source": [
    "# สถิติของยอดขายและจำนวนสินค้า\n",
    "print(\"=== AMOUNT STATISTICS ===\")\n",
    "print(df['amount'].describe())\n",
    "print(f\"\\nTotal Revenue: {df['amount'].sum():,.2f} THB\")\n",
    "print(f\"\\n=== QUANTITY STATISTICS ===\")\n",
    "print(df['quantity'].describe())"
   ]
  },
  {
   "cell_type": "code",
   "execution_count": null,
   "metadata": {},
   "outputs": [],
   "source": []
  },
  {
   "cell_type": "code",
   "execution_count": null,
   "metadata": {},
   "outputs": [],
   "source": []
  }
 ],
 "metadata": {
  "kernelspec": {
   "display_name": "base",
   "language": "python",
   "name": "python3"
  },
  "language_info": {
   "codemirror_mode": {
    "name": "ipython",
    "version": 3
   },
   "file_extension": ".py",
   "mimetype": "text/x-python",
   "name": "python",
   "nbconvert_exporter": "python",
   "pygments_lexer": "ipython3",
   "version": "3.12.7"
  }
 },
 "nbformat": 4,
 "nbformat_minor": 4
}
